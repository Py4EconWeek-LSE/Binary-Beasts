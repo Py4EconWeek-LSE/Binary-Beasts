{
 "cells": [
  {
   "cell_type": "markdown",
   "metadata": {
    "slideshow": {
     "slide_type": "slide"
    }
   },
   "source": [
    "# The Gravity Model\n",
    "## Binary Beasts\n",
    "### Shanjun Zhu, Patrick Leitloff, Su Mae Lee, Oliver Kidd"
   ]
  },
  {
   "cell_type": "markdown",
   "metadata": {
    "slideshow": {
     "slide_type": "slide"
    }
   },
   "source": [
    "# Motivation\n",
    "### Literature Review\n",
    "### Gravity Model Literature\n",
    "* Head, K and Mayer, T. (2014) Gravity Equations: Workhorse, Toolkit, and Cookbook\n",
    "    * Defined a simple gravity model, and then expanded into other, more general models to include bilateral trade\n",
    "    \n",
    "\n"
   ]
  },
  {
   "cell_type": "markdown",
   "metadata": {},
   "source": [
    "* Anderson, J and van Wincoop, E. (2001) Gravity with Gravitas: A Solution to the Border Puzzle\n",
    "    * Solution to the border problem, shows that basing empirics on theoretically grounded gravity equation affects estimates of impact of national borders on trade"
   ]
  },
  {
   "cell_type": "markdown",
   "metadata": {
    "slideshow": {
     "slide_type": "slide"
    }
   },
   "source": [
    "* Santos Silva, J and S Tenreyro (2006), “The log of gravity \",The Review of Economics and Statistics\n",
    "    * OLS estimates in log-lin relationships with heteroskedasticity cannot be interpreted as elasticities without bias, so the solution is to use a pseudo-maximum-likelihood (PML) estimation technique, that can also deal with zero values for the dependent variable"
   ]
  },
  {
   "cell_type": "markdown",
   "metadata": {
    "slideshow": {
     "slide_type": "slide"
    }
   },
   "source": [
    "### Brexit Literature\n",
    "* Dhingra, S. et al (2016) The UK Treasury analysis of 'The long-term economic impact of EU membership and the alternatives'\n",
    "    * Critically examines a UK Treasury analysis of the impact of Brexit in 3 different trade agreement scenarios.\n",
    "    * Argues the treasury has been too cautious in some of their assumptions, and so have understated some of the impacts of Brexit on GDP."
   ]
  },
  {
   "cell_type": "markdown",
   "metadata": {
    "slideshow": {
     "slide_type": "slide"
    }
   },
   "source": [
    "# Obstacles\n",
    "## Github\n",
    "* As someone who had not used Github before, at first it was slightly confusing\n",
    "* However, after using it for this project, I can now see why it is very useful in group projects and using it throughout the project has allowed us to get more comfortable with it"
   ]
  }
 ],
 "metadata": {
  "celltoolbar": "Slideshow",
  "kernelspec": {
   "display_name": "Python 3",
   "language": "python",
   "name": "python3"
  },
  "language_info": {
   "codemirror_mode": {
    "name": "ipython",
    "version": 3
   },
   "file_extension": ".py",
   "mimetype": "text/x-python",
   "name": "python",
   "nbconvert_exporter": "python",
   "pygments_lexer": "ipython3",
   "version": "3.8.5"
  }
 },
 "nbformat": 4,
 "nbformat_minor": 4
}
