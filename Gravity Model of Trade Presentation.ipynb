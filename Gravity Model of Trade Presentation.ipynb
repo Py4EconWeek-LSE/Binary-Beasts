{
 "cells": [
  {
   "cell_type": "markdown",
   "metadata": {},
   "source": [
    "# OLS Estimation of Model"
   ]
  },
  {
   "cell_type": "code",
   "execution_count": 2,
   "metadata": {
    "scrolled": false
   },
   "outputs": [
    {
     "name": "stderr",
     "output_type": "stream",
     "text": [
      "/anaconda3/lib/python3.7/site-packages/statsmodels/compat/pandas.py:49: FutureWarning: The Panel class is removed from pandas. Accessing it from the top-level namespace will also be removed in the next version\n",
      "  data_klasses = (pandas.Series, pandas.DataFrame, pandas.Panel)\n",
      "/anaconda3/lib/python3.7/site-packages/ipykernel_launcher.py:41: SettingWithCopyWarning: \n",
      "A value is trying to be set on a copy of a slice from a DataFrame.\n",
      "Try using .loc[row_indexer,col_indexer] = value instead\n",
      "\n",
      "See the caveats in the documentation: https://pandas.pydata.org/pandas-docs/stable/user_guide/indexing.html#returning-a-view-versus-a-copy\n"
     ]
    }
   ],
   "source": [
    "import pandas as pd\n",
    "import numpy as np\n",
    "import gme as gme\n",
    "#loading the file and inspect data\n",
    "url = 'https://www.dropbox.com/s/2uha8rwc8bngcsz/servicesdataset%202.xlsx?dl=1'\n",
    "df = pd.read_excel(url)\n",
    "\n",
    "#drop null values from relevant columns in df \n",
    "trade_data = df[['exp','imp', 'trade', 'year','gdp_exp', 'gdp_imp', 'contig','comlang_off','distw','ent_cost_imp', 'ent_cost_exp', 'colony']]\n",
    "trade_data = trade_data.dropna()\n",
    "\n",
    "\n",
    "#include the accessibility column\n",
    "trade_data['bilateral accessibility'] = np.exp(-np.log(trade_data['distw']))\n",
    "\n",
    "\n",
    "#create EU dummy column\n",
    "EU = ['AUT','BEL','CYP','CZE','DNK','EST','FIN','FRA','DEU','GRC','HUN','IRL','ITA','LVA','LTU','LUX','MLT','NLD','POL','SVK','SVN','ESP','SWE','GBR']\n",
    "imp_EU = {}\n",
    "exp_EU = {}\n",
    "imp_countries = trade_data['imp'].tolist()\n",
    "exp_countries = trade_data['exp'].tolist()\n",
    "for country in imp_countries:\n",
    "    if country in EU:\n",
    "        imp_EU[country] = 1\n",
    "        exp_EU[country] = 1\n",
    "    else:\n",
    "        imp_EU[country] = 0\n",
    "        exp_EU[country] = 0\n",
    "trade_data['imp_is_EU'] = trade_data['imp'].map(imp_EU)\n",
    "trade_data['exp_is_EU'] = trade_data['exp'].map(exp_EU)\n",
    "trade_data['between_EU'] = trade_data['imp_is_EU']*trade_data['exp_is_EU']\n",
    "        \n",
    "#include log GDP and log distance  \n",
    "trade_data['log_gdp_exp'] = np.log(trade_data['gdp_exp'])\n",
    "trade_data['log_gdp_imp'] = np.log(trade_data['gdp_imp'])\n",
    "trade_data['log_distance'] = np.log(trade_data['distw'])\n",
    "\n",
    "#create new dataframe with non-zero trade column\n",
    "non_zero_trade_data = trade_data[trade_data['trade'] != 0]\n",
    "non_zero_trade_data['log_trade'] = np.log(non_zero_trade_data['trade'])"
   ]
  },
  {
   "cell_type": "markdown",
   "metadata": {},
   "source": [
    "## Run the regression model"
   ]
  },
  {
   "cell_type": "code",
   "execution_count": 17,
   "metadata": {
    "scrolled": true
   },
   "outputs": [
    {
     "name": "stdout",
     "output_type": "stream",
     "text": [
      "                            OLS Regression Results                            \n",
      "==============================================================================\n",
      "Dep. Variable:              log_trade   R-squared:                       0.317\n",
      "Model:                            OLS   Adj. R-squared:                  0.317\n",
      "Method:                 Least Squares   F-statistic:                     813.6\n",
      "Date:                Fri, 26 Feb 2021   Prob (F-statistic):               0.00\n",
      "Time:                        23:03:03   Log-Likelihood:                -22482.\n",
      "No. Observations:               10525   AIC:                         4.498e+04\n",
      "Df Residuals:                   10518   BIC:                         4.503e+04\n",
      "Df Model:                           6                                         \n",
      "Covariance Type:            nonrobust                                         \n",
      "================================================================================\n",
      "                   coef    std err          t      P>|t|      [0.025      0.975]\n",
      "--------------------------------------------------------------------------------\n",
      "const          -19.8806      0.450    -44.164      0.000     -20.763     -18.998\n",
      "log_gdp_exp      0.4830      0.012     41.770      0.000       0.460       0.506\n",
      "log_gdp_imp      0.5338      0.012     45.531      0.000       0.511       0.557\n",
      "log_distance    -0.5479      0.025    -21.620      0.000      -0.598      -0.498\n",
      "between_EU       1.5529      0.082     18.849      0.000       1.391       1.714\n",
      "comlang_off      1.8348      0.075     24.324      0.000       1.687       1.983\n",
      "contig           0.2561      0.108      2.362      0.018       0.044       0.469\n",
      "==============================================================================\n",
      "Omnibus:                      164.929   Durbin-Watson:                   1.583\n",
      "Prob(Omnibus):                  0.000   Jarque-Bera (JB):              172.762\n",
      "Skew:                          -0.305   Prob(JB):                     3.06e-38\n",
      "Kurtosis:                       3.145   Cond. No.                         854.\n",
      "==============================================================================\n",
      "\n",
      "Warnings:\n",
      "[1] Standard Errors assume that the covariance matrix of the errors is correctly specified.\n"
     ]
    }
   ],
   "source": [
    "#OLS\n",
    "import statsmodels.api as sm\n",
    "import statsmodels.formula.api as smf\n",
    "X = non_zero_trade_data[['log_gdp_exp',\n",
    "               'log_gdp_imp',\n",
    "               'log_distance',\n",
    "               'between_EU',\n",
    "               'comlang_off',\n",
    "               'contig'\n",
    "               ]]\n",
    "    \n",
    "Y = non_zero_trade_data['log_trade']\n",
    "X = sm.add_constant(X) # adding a constant\n",
    "\n",
    "model = sm.OLS(Y, X).fit()\n",
    "\n",
    "print_model = model.summary()\n",
    "print(print_model)"
   ]
  },
  {
   "cell_type": "markdown",
   "metadata": {},
   "source": [
    "### The result shows: \n",
    "* One percent point increase in exporter GDP leads to on average 0.48 percentage point increase in trade between two countries\n",
    "* One percentage point increase in distance leads to on average 0.55 percentage point decrease in trade between two countries\n",
    "* Being both in the EU increases trade between two countries on average 1.55 percentage points\n",
    "\n",
    "Confounders that may create selection bias between trade and distance, such as common language and border, are controlled in this regression. \n",
    "\n",
    "However, confounders that may confound trade and exporter's GDP, such as value of services transacted, are not controlled. This leads to a positive selection bias. Countries that provide more valuable services such as professional services tend to have higher GDP, and if very few countries provide such service, they also trade more. \n",
    "\n",
    "### This motivates us to run a 2SLS regression using whether the two countries were in colonial relationship as IV"
   ]
  },
  {
   "cell_type": "code",
   "execution_count": 20,
   "metadata": {
    "scrolled": false
   },
   "outputs": [
    {
     "name": "stdout",
     "output_type": "stream",
     "text": [
      "                          IV2SLS Regression Results                           \n",
      "==============================================================================\n",
      "Dep. Variable:              log_trade   R-squared:                       0.267\n",
      "Model:                         IV2SLS   Adj. R-squared:                  0.267\n",
      "Method:                     Two Stage   F-statistic:                       nan\n",
      "                        Least Squares   Prob (F-statistic):                nan\n",
      "Date:                Fri, 26 Feb 2021                                         \n",
      "Time:                        23:37:44                                         \n",
      "No. Observations:               10525                                         \n",
      "Df Residuals:                   10524                                         \n",
      "Df Model:                           1                                         \n",
      "===============================================================================\n",
      "                  coef    std err          t      P>|t|      [0.025      0.975]\n",
      "-------------------------------------------------------------------------------\n",
      "log_gdp_exp     0.1495      0.005     30.492      0.000       0.140       0.159\n",
      "==============================================================================\n",
      "Omnibus:                       40.257   Durbin-Watson:                   1.036\n",
      "Prob(Omnibus):                  0.000   Jarque-Bera (JB):               46.328\n",
      "Skew:                          -0.097   Prob(JB):                     8.71e-11\n",
      "Kurtosis:                       3.262   Cond. No.                         1.00\n",
      "==============================================================================\n"
     ]
    }
   ],
   "source": [
    "from statsmodels.sandbox.regression.gmm import IV2SLS  \n",
    "\n",
    "Instrument = non_zero_trade_data[['colony']]\n",
    "end = non_zero_trade_data[['log_trade']]\n",
    "exo = non_zero_trade_data[['log_gdp_exp']]\n",
    "\n",
    "resultIV = IV2SLS(end, exo, Instrument).fit()\n",
    "print(resultIV.summary())"
   ]
  },
  {
   "cell_type": "markdown",
   "metadata": {},
   "source": [
    "#### The 2SLS regression reveals that, in fact, a one percentage point increase in exporter's GDP only leads to on average 0.15 percentage point increase in trade. "
   ]
  },
  {
   "cell_type": "markdown",
   "metadata": {},
   "source": [
    "### To test the suitability of IV, it needs to satisfy three assumptions: \n",
    "* Instrument relevance, where correlation between colony and log_gdp_exp is non-zero\n",
    "* colony only affects trade through log_gdp_exp\n",
    "* Instrument is as good as randomly assigned. \n",
    "\n",
    "### Assumption 1 can be tested by regressing colony on log_gdp_exp: "
   ]
  },
  {
   "cell_type": "code",
   "execution_count": 5,
   "metadata": {},
   "outputs": [
    {
     "name": "stdout",
     "output_type": "stream",
     "text": [
      "                            OLS Regression Results                            \n",
      "==============================================================================\n",
      "Dep. Variable:            log_gdp_exp   R-squared:                       0.049\n",
      "Model:                            OLS   Adj. R-squared:                  0.049\n",
      "Method:                 Least Squares   F-statistic:                     538.1\n",
      "Date:                Sat, 27 Feb 2021   Prob (F-statistic):          3.81e-116\n",
      "Time:                        09:55:02   Log-Likelihood:                -49015.\n",
      "No. Observations:               10525   AIC:                         9.803e+04\n",
      "Df Residuals:                   10524   BIC:                         9.804e+04\n",
      "Df Model:                           1                                         \n",
      "Covariance Type:            nonrobust                                         \n",
      "==============================================================================\n",
      "                 coef    std err          t      P>|t|      [0.025      0.975]\n",
      "------------------------------------------------------------------------------\n",
      "colony        26.0774      1.124     23.198      0.000      23.874      28.281\n",
      "==============================================================================\n",
      "Omnibus:                     7848.426   Durbin-Watson:                   0.102\n",
      "Prob(Omnibus):                  0.000   Jarque-Bera (JB):            99726.089\n",
      "Skew:                          -3.673   Prob(JB):                         0.00\n",
      "Kurtosis:                      16.170   Cond. No.                         1.00\n",
      "==============================================================================\n",
      "\n",
      "Warnings:\n",
      "[1] Standard Errors assume that the covariance matrix of the errors is correctly specified.\n"
     ]
    }
   ],
   "source": [
    "#colony and gdp_ex\n",
    "import statsmodels.api as sm\n",
    "import statsmodels.formula.api as smf\n",
    "model_ce = sm.OLS(non_zero_trade_data['log_gdp_exp'], non_zero_trade_data['colony']).fit()\n",
    "print(model_ce.summary())"
   ]
  },
  {
   "cell_type": "markdown",
   "metadata": {},
   "source": [
    "## Compare the original dataset and dataset for OLS regression"
   ]
  },
  {
   "cell_type": "code",
   "execution_count": 5,
   "metadata": {},
   "outputs": [
    {
     "name": "stdout",
     "output_type": "stream",
     "text": [
      "(25069, 19)\n",
      "(10525, 20)\n"
     ]
    }
   ],
   "source": [
    "print(trade_data.shape)\n",
    "print(non_zero_trade_data.shape)"
   ]
  },
  {
   "cell_type": "markdown",
   "metadata": {},
   "source": [
    "#### OLS or 2SLS regression forces us to use a much smaller dataset, where only countries that trade with each other are included. This leads to sample selection bias, where characteristics of countries that trade more are inflated.\n",
    "\n",
    "For example, countries that do not trade could also be more distant, as such, if they are omitted, we will underestimate the negative effect of distance on trade"
   ]
  },
  {
   "cell_type": "markdown",
   "metadata": {},
   "source": [
    "## Solution: PPML Estimation"
   ]
  },
  {
   "cell_type": "code",
   "execution_count": 21,
   "metadata": {
    "scrolled": true
   },
   "outputs": [
    {
     "name": "stdout",
     "output_type": "stream",
     "text": [
      "select specification variables: ['log_gdp_exp', 'log_gdp_imp', 'log_distance', 'comlang_off', 'contig', 'trade', 'imp', 'exp', 'year'], Observations excluded by user: {'rows': 0, 'columns': 10}\n",
      "drop_intratrade: no, Observations excluded by user: {'rows': 0, 'columns': 0}\n",
      "drop_imp: none, Observations excluded by user: {'rows': 0, 'columns': 0}\n",
      "drop_exp: none, Observations excluded by user: {'rows': 0, 'columns': 0}\n",
      "keep_imp: all available, Observations excluded by user: {'rows': 0, 'columns': 0}\n",
      "keep_exp: all available, Observations excluded by user: {'rows': 0, 'columns': 0}\n",
      "drop_years: none, Observations excluded by user: {'rows': 0, 'columns': 0}\n",
      "keep_years: all available, Observations excluded by user: {'rows': 0, 'columns': 0}\n",
      "drop_missing: yes, Observations excluded by user: {'rows': 0, 'columns': 0}\n",
      "Estimation began at 12:44 AM  on Feb 27, 2021\n",
      "Omitted Columns: []\n",
      "Estimation completed at 12:44 AM  on Feb 27, 2021\n",
      "                 Generalized Linear Model Regression Results                  \n",
      "==============================================================================\n",
      "Dep. Variable:                  trade   No. Iterations:                      8\n",
      "Model:                            GLM   Df Residuals:                    25064\n",
      "Model Family:                 Poisson   Df Model:                            4\n",
      "Link Function:                    log   Scale:                          1.0000\n",
      "Method:                          IRLS   Log-Likelihood:            -4.2729e+06\n",
      "Covariance Type:                  HC1   Deviance:                   8.5008e+06\n",
      "No. Observations:               25069   Pearson chi2:                 4.53e+07\n",
      "================================================================================\n",
      "                   coef    std err          t      P>|t|      [0.025      0.975]\n",
      "--------------------------------------------------------------------------------\n",
      "log_gdp_exp      0.1734      0.021      8.253      0.000       0.132       0.215\n",
      "log_gdp_imp      0.1913      0.021      9.214      0.000       0.151       0.232\n",
      "log_distance    -0.6632      0.039    -16.823      0.000      -0.740      -0.586\n",
      "comlang_off      1.3930      0.169      8.258      0.000       1.062       1.724\n",
      "contig          -0.2290      0.207     -1.106      0.269      -0.635       0.177\n",
      "================================================================================\n"
     ]
    }
   ],
   "source": [
    "#data for estimation\n",
    "gme_data = gme.EstimationData(data_frame=trade_data,\n",
    "                              imp_var_name='imp',\n",
    "                              exp_var_name='exp',\n",
    "                              trade_var_name='trade',\n",
    "                              year_var_name='year')\n",
    "\n",
    "#basic regression data\n",
    "model_basic = gme.EstimationModel(estimation_data = gme_data,\n",
    "                                         lhs_var = 'trade',\n",
    "                                         rhs_var = ['log_gdp_exp',\n",
    "                                                    'log_gdp_imp',\n",
    "                                                    'log_distance',\n",
    "                                                    'comlang_off',\n",
    "                                                    'contig'\n",
    "                                                    ])\n",
    "basic_estimates = model_basic.estimate()\n",
    "# Return the result object and save it to a new variable for convenience \n",
    "results = basic_estimates['all']\n",
    "print(results.summary())"
   ]
  },
  {
   "cell_type": "markdown",
   "metadata": {},
   "source": [
    "### As you can see, the coefficient on log_gdp is quite similar to that of the 2SLS regression, further confirming our worries for OVBs."
   ]
  },
  {
   "cell_type": "code",
   "execution_count": null,
   "metadata": {},
   "outputs": [],
   "source": []
  }
 ],
 "metadata": {
  "kernelspec": {
   "display_name": "Python 3",
   "language": "python",
   "name": "python3"
  },
  "language_info": {
   "codemirror_mode": {
    "name": "ipython",
    "version": 3
   },
   "file_extension": ".py",
   "mimetype": "text/x-python",
   "name": "python",
   "nbconvert_exporter": "python",
   "pygments_lexer": "ipython3",
   "version": "3.7.1"
  }
 },
 "nbformat": 4,
 "nbformat_minor": 2
}
