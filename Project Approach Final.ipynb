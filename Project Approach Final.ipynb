{
 "cells": [
  {
   "cell_type": "markdown",
   "metadata": {},
   "source": [
    "## **The Gravity Model of Trade:**\n",
    "\n",
    "$T_{ij} = A\\frac{Y_{i}Y_{j}}{D_{ij}}$\n",
    "\n",
    "$T_{ij}$: Tradeflow between countries  \n",
    "$Y_{m}$: GDP  \n",
    "$D_{ij}$: Distance between countries"
   ]
  },
  {
   "cell_type": "markdown",
   "metadata": {},
   "source": [
    "### **1. OLS Regression**\n",
    "\n",
    "$T_{ij} = \\pi + log[Y_{i}] + log[Y_{j}] + log[D_{ij}] + log[EU] + log[L] + log[C] + \\epsilon$\n",
    "\n",
    "Dummy variables: EU, L, C  \n",
    "\n",
    "EU = 1 if both exporting and importing countries are in the EU  \n",
    "EU = 0 otherwise  \n",
    "\n",
    "L = 1 for common official of primary language  \n",
    "L = 0 otherwise    \n",
    "\n",
    "C = 1 for contiguity  \n",
    "C = otherwise"
   ]
  },
  {
   "cell_type": "markdown",
   "metadata": {},
   "source": [
    "### **2. 2SLS Regression**\n",
    " \n",
    " **First stage regression**  \n",
    " Run an OLS regression:  \n",
    " $Y_{i} = \\pi + \\beta_{1}log[Y_{j}] + \\beta_{2}log[COL] + \\beta_{3}log[D_{ij}] + \\beta_{4}log[EU] + \\beta_{5}log[L] + \\beta_{6}log[C] + \\epsilon$  \n",
    " \n",
    " COL is a dummy variable for colonial relationship  \n",
    " COL = 1 if pair of countries were ever in colonial relationship  \n",
    " COL = 0 otherwise  \n",
    " \n",
    " for COL to be a valid instrument, it must satisfy:  \n",
    " Relevance: $\\beta_{2} ≠ 0$  \n",
    " Validity: $Cov(log[COL],\\epsilon) = 0$\n",
    "\n",
    "**Second stage regression**  \n",
    "Run OLS on:  \n",
    "$T_{ij} = \\alpha + \\beta_{1}\\hat{log[Y_{i}]} + {\\beta_2}log[Y_{j}] + log[D_{ij}] + log log[L] + log[C] + u$  \n",
    "\n",
    "So that we obtain the 2SLS estimator, $\\hat\\beta_{1}$"
   ]
  },
  {
   "cell_type": "markdown",
   "metadata": {},
   "source": [
    "### **3. PPML Regression**\n",
    "\n",
    "$T_{ij} = Y_{i} + Y_{j} + D_{ij} + L + C$"
   ]
  },
  {
   "cell_type": "code",
   "execution_count": null,
   "metadata": {},
   "outputs": [],
   "source": []
  },
  {
   "cell_type": "code",
   "execution_count": null,
   "metadata": {},
   "outputs": [],
   "source": []
  }
 ],
 "metadata": {
  "kernelspec": {
   "display_name": "Python 3",
   "language": "python",
   "name": "python3"
  },
  "language_info": {
   "codemirror_mode": {
    "name": "ipython",
    "version": 3
   },
   "file_extension": ".py",
   "mimetype": "text/x-python",
   "name": "python",
   "nbconvert_exporter": "python",
   "pygments_lexer": "ipython3",
   "version": "3.8.5"
  }
 },
 "nbformat": 4,
 "nbformat_minor": 4
}
